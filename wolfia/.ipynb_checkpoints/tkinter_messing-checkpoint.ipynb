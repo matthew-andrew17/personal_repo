{
 "cells": [
  {
   "cell_type": "code",
   "execution_count": 1,
   "metadata": {},
   "outputs": [],
   "source": [
    "import serial\n",
    "import random\n",
    "import matplotlib.pyplot as plt\n",
    "import time\n",
    "import os\n",
    "import numpy as np\n",
    "import subprocess\n",
    "import multiprocessing\n",
    "from IPython.lib import backgroundjobs as bg\n",
    "import h5py\n",
    "import skimage\n",
    "import sys\n",
    "from skimage import io, transform, color, measure\n",
    "from PIL import ImageTk, Image\n",
    "import micro_functions as mf\n",
    "import tkinter\n",
    "import tkinter.messagebox\n",
    "import tkinter.filedialog\n",
    "import shared_variables as share\n",
    "import hdf_functions as myh5\n",
    "import gui_functions as gu\n",
    "import matplotlib.pyplot as plt\n",
    "import matplotlib.image as mpimg\n",
    "import cv2\n",
    "from cv2 import MOTION_EUCLIDEAN\n",
    "import scipy"
   ]
  },
  {
   "cell_type": "code",
   "execution_count": 2,
   "metadata": {},
   "outputs": [
    {
     "name": "stdout",
     "output_type": "stream",
     "text": [
      "C:\\Users\\y7mandre\\Pictures\\digiCamControl\n"
     ]
    }
   ],
   "source": [
    "cd \"C:\\Users\\y7mandre\\Pictures\\digiCamControl\\\""
   ]
  },
  {
   "cell_type": "code",
   "execution_count": null,
   "metadata": {},
   "outputs": [],
   "source": [
    "#mf.cyclecoms()\n",
    "mf.opencoms()\n"
   ]
  },
  {
   "cell_type": "code",
   "execution_count": null,
   "metadata": {},
   "outputs": [],
   "source": [
    "share.zoomlevel=3\n",
    "gu.gui_main()"
   ]
  },
  {
   "cell_type": "code",
   "execution_count": 3,
   "metadata": {},
   "outputs": [
    {
     "name": "stdout",
     "output_type": "stream",
     "text": [
      "C:\\Users\\y7mandre\\Pictures\\scanner_imagedump\n"
     ]
    }
   ],
   "source": [
    "cd \"C:\\Users\\y7mandre\\Pictures\\scanner_imagedump\""
   ]
  },
  {
   "cell_type": "code",
   "execution_count": 4,
   "metadata": {},
   "outputs": [
    {
     "name": "stdout",
     "output_type": "stream",
     "text": [
      " Volume in drive C is M601N119\n",
      " Volume Serial Number is 30D2-D513\n",
      "\n",
      " Directory of C:\\Users\\y7mandre\\Pictures\\scanner_imagedump\n",
      "\n",
      "07/16/2018  10:00 PM    <DIR>          .\n",
      "07/16/2018  10:00 PM    <DIR>          ..\n",
      "07/16/2018  10:15 PM         1,950,950 matches.jpg\n",
      "07/15/2018  10:01 AM        13,437,219 myfile.tif\n",
      "07/15/2018  09:56 AM         1,304,816 x_1593.jpg\n",
      "07/15/2018  09:56 AM         1,369,075 x_1594.jpg\n",
      "07/15/2018  09:56 AM         1,445,240 x_1595.jpg\n",
      "07/15/2018  09:56 AM         1,543,557 x_1596.jpg\n",
      "07/15/2018  09:56 AM         1,659,976 x_1597.jpg\n",
      "07/15/2018  09:56 AM         1,780,653 x_1598.jpg\n",
      "07/15/2018  09:56 AM         1,859,554 x_1599.jpg\n",
      "07/15/2018  09:56 AM         1,751,074 x_1600.jpg\n",
      "07/15/2018  09:56 AM         1,538,446 x_1601.jpg\n",
      "07/15/2018  09:56 AM         1,387,496 x_1602.jpg\n",
      "              12 File(s)     31,028,056 bytes\n",
      "               2 Dir(s)  10,417,487,872 bytes free\n"
     ]
    }
   ],
   "source": [
    "ls"
   ]
  },
  {
   "cell_type": "code",
   "execution_count": 5,
   "metadata": {},
   "outputs": [],
   "source": [
    "imlist=[]"
   ]
  },
  {
   "cell_type": "code",
   "execution_count": 6,
   "metadata": {},
   "outputs": [],
   "source": [
    "filelist=os.listdir()"
   ]
  },
  {
   "cell_type": "code",
   "execution_count": 7,
   "metadata": {},
   "outputs": [],
   "source": [
    "for y in range(len(filelist)):\n",
    "    imlist.append(skimage.io.imread(filelist[y]))"
   ]
  },
  {
   "cell_type": "code",
   "execution_count": 9,
   "metadata": {},
   "outputs": [
    {
     "name": "stdout",
     "output_type": "stream",
     "text": [
      "5.980000257492065\n"
     ]
    }
   ],
   "source": [
    "t1=time.time()\n",
    "im2warped,ecc_matrix=mf.register_images_ECC(imlist[1],imlist[10])\n",
    "t2=time.time()\n",
    "print(t2-t1)"
   ]
  },
  {
   "cell_type": "code",
   "execution_count": 13,
   "metadata": {},
   "outputs": [],
   "source": [
    "MAX_FEATURES = 500\n",
    "GOOD_MATCH_PERCENT = 0.15\n",
    "\n",
    "def alignImages(im1, im2):\n",
    " \n",
    "    # Convert images to grayscale\n",
    "    im1Gray = cv2.cvtColor(im1, cv2.COLOR_BGR2GRAY)\n",
    "    im2Gray = cv2.cvtColor(im2, cv2.COLOR_BGR2GRAY)\n",
    "    \n",
    "    # Detect ORB features and compute descriptors.\n",
    "    orb = cv2.ORB_create(MAX_FEATURES)\n",
    "    keypoints1, descriptors1 = orb.detectAndCompute(im1Gray, None)\n",
    "    keypoints2, descriptors2 = orb.detectAndCompute(im2Gray, None)\n",
    "   \n",
    "    # Match features.\n",
    "    matcher = cv2.DescriptorMatcher_create(cv2.DESCRIPTOR_MATCHER_BRUTEFORCE_HAMMING)\n",
    "    matches = matcher.match(descriptors1, descriptors2, None)\n",
    "   \n",
    "    # Sort matches by score\n",
    "    matches.sort(key=lambda x: x.distance, reverse=False)\n",
    " \n",
    "    # Remove not so good matches\n",
    "    numGoodMatches = int(len(matches) * GOOD_MATCH_PERCENT)\n",
    "    matches = matches[:numGoodMatches]\n",
    " \n",
    "    # Draw top matches\n",
    "    #imMatches = cv2.drawMatches(im1, keypoints1, im2, keypoints2, matches, None)\n",
    "    #cv2.imwrite(\"matches.jpg\", imMatches)\n",
    "   \n",
    "    # Extract location of good matches\n",
    "    points1 = np.zeros((len(matches), 2), dtype=np.float32)\n",
    "    points2 = np.zeros((len(matches), 2), dtype=np.float32)\n",
    " \n",
    "    for i, match in enumerate(matches):\n",
    "        points1[i, :] = keypoints1[match.queryIdx].pt\n",
    "        points2[i, :] = keypoints2[match.trainIdx].pt\n",
    "   \n",
    "    # Find homography\n",
    "    h, mask = cv2.findHomography(points1, points2, cv2.RANSAC)\n",
    " \n",
    "    # Use homography\n",
    "    height, width, channels = im2.shape\n",
    "    im1Reg = cv2.warpPerspective(im1, h, (width, height))\n",
    "   \n",
    "    return im1Reg, h,keypoints1,keypoints2"
   ]
  },
  {
   "cell_type": "code",
   "execution_count": 18,
   "metadata": {},
   "outputs": [],
   "source": [
    "reg,h,kp1,kp2=alignImages(imlist[0],imlist[1])"
   ]
  },
  {
   "cell_type": "code",
   "execution_count": 19,
   "metadata": {},
   "outputs": [
    {
     "data": {
      "image/png": "[encoded data removed]",
      "text/plain": [
       "<Figure size 432x288 with 1 Axes>"
      ]
     },
     "metadata": {},
     "output_type": "display_data"
    }
   ],
   "source": [
    "plt.imshow(imlist[1])\n",
    "for x in range(len(kp1)):\n",
    "    plt.scatter(kp1[x].pt[0],kp1[x].pt[1],c='red')\n",
    "for x in range(len(kp2)):\n",
    "    plt.scatter(kp2[x].pt[0],kp2[x].pt[1],c='blue')"
   ]
  },
  {
   "cell_type": "code",
   "execution_count": null,
   "metadata": {},
   "outputs": [],
   "source": [
    "plt.imshow(reg)"
   ]
  },
  {
   "cell_type": "code",
   "execution_count": 10,
   "metadata": {},
   "outputs": [
    {
     "name": "stdout",
     "output_type": "stream",
     "text": [
      "Warning: Desired error not necessarily achieved due to precision loss.\n",
      "         Current function value: 64.175866\n",
      "         Iterations: 1\n",
      "         Function evaluations: 512\n",
      "         Gradient evaluations: 63\n",
      "0.11899995803833008 56.48900008201599\n"
     ]
    }
   ],
   "source": [
    "image1=imlist[1]\n",
    "image2=imlist[10]\n",
    "\n",
    "image1_g=cv2.cvtColor(image1,cv2.COLOR_RGB2GRAY)\n",
    "image2_g=cv2.cvtColor(image2,cv2.COLOR_RGB2GRAY)\n",
    "\n",
    "warp_matrix0 = np.array(([1,0,0],[0,1,0]), dtype=np.float32)\n",
    "\n",
    "def register_images_SSD(x,im1,im2):\n",
    "    x=x.reshape(2,3)\n",
    "    im2warped=cv2.warpAffine(im2, (x), (im1.shape[1],im1.shape[0]), flags=cv2.INTER_LINEAR + cv2.WARP_INVERSE_MAP)\n",
    "    dif=(im1-im2warped)**2\n",
    "    ssd=np.sum(dif[np.where(im2warped>0)])\n",
    "    nnz=np.sum(im2warped>0)\n",
    "    ssd=ssd/nnz\n",
    "    return ssd\n",
    "\n",
    "t1=time.time()\n",
    "difference2=register_images_SSD(warp_matrix0,image1_g,image2_g)\n",
    "t2=time.time()\n",
    "\n",
    "jac=np.array(([1,1,10],[1,1,10]), dtype=np.float32)\n",
    "jac=jac.reshape(-1)\n",
    "\n",
    "warp_matrix0 = np.array(([1,0,0],[0,1,0]), dtype=np.float32)#np.eye(2, 3, dtype=np.float32)\n",
    "wp0=np.reshape(warp_matrix0,-1)\n",
    "\n",
    "wp_opt=scipy.optimize.minimize(register_images_SSD,wp0,args=(image1_g,image2_g),options={'gtol': 1e-5, 'disp': True,'eps':0.1})\n",
    "\n",
    "t3=time.time()\n",
    "print(t2-t1,t3-t2)"
   ]
  },
  {
   "cell_type": "code",
   "execution_count": 11,
   "metadata": {},
   "outputs": [
    {
     "data": {
      "text/plain": [
       "array([ 9.75977852e-01, -1.81355562e-02,  1.08712890e-04, -3.19979632e-02,\n",
       "        9.75531566e-01, -1.37974398e-04])"
      ]
     },
     "execution_count": 11,
     "metadata": {},
     "output_type": "execute_result"
    }
   ],
   "source": [
    "wp_opt.x"
   ]
  },
  {
   "cell_type": "code",
   "execution_count": 12,
   "metadata": {},
   "outputs": [
    {
     "data": {
      "text/plain": [
       "array([[ 1.0282581e+00,  6.9333328e-04, -3.0552193e+01],\n",
       "       [-2.7038896e-04,  1.0288780e+00, -5.1658386e+01]], dtype=float32)"
      ]
     },
     "execution_count": 12,
     "metadata": {},
     "output_type": "execute_result"
    }
   ],
   "source": [
    "ecc_matrix"
   ]
  }
 ],
 "metadata": {
  "kernelspec": {
   "display_name": "Python 3",
   "language": "python",
   "name": "python3"
  },
  "language_info": {
   "codemirror_mode": {
    "name": "ipython",
    "version": 3
   },
   "file_extension": ".py",
   "mimetype": "text/x-python",
   "name": "python",
   "nbconvert_exporter": "python",
   "pygments_lexer": "ipython3",
   "version": "3.6.5"
  }
 },
 "nbformat": 4,
 "nbformat_minor": 2
}
