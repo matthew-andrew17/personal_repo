{
 "cells": [
  {
   "cell_type": "code",
   "execution_count": 2,
   "metadata": {},
   "outputs": [],
   "source": [
    "import serial\n",
    "import matplotlib.pyplot as plt\n",
    "import time\n",
    "import os\n",
    "import numpy as np\n",
    "import subprocess\n",
    "import multiprocessing\n",
    "from IPython.lib import backgroundjobs as bg\n",
    "import h5py\n",
    "import skimage\n",
    "import sys\n",
    "from skimage import io\n",
    "import micro_functions as mf\n",
    "import tkinter\n",
    "import tkinter.messagebox\n",
    "import shared_variables as share"
   ]
  },
  {
   "cell_type": "code",
   "execution_count": 3,
   "metadata": {},
   "outputs": [
    {
     "data": {
      "text/plain": [
       "<BackgroundJob #0: <function gui_starter at 0x0000000008E186A8>>"
      ]
     },
     "execution_count": 3,
     "metadata": {},
     "output_type": "execute_result"
    },
    {
     "name": "stdout",
     "output_type": "stream",
     "text": [
      "Coms Open\n",
      "startup commands complete\n",
      "Com Cycle Complete\n",
      "startup commands complete\n",
      "Com Cycle Complete\n",
      "startup commands complete\n",
      "Com Cycle Complete\n",
      "startup commands complete\n",
      "Com Cycle Complete\n",
      "startup commands complete\n",
      "Coms Closed\n"
     ]
    }
   ],
   "source": [
    "jobs = bg.BackgroundJobManager()\n",
    "jobs.new(mf.gui_starter)"
   ]
  },
  {
   "cell_type": "code",
   "execution_count": null,
   "metadata": {},
   "outputs": [],
   "source": [
    "mf.jog_z(10)"
   ]
  },
  {
   "cell_type": "code",
   "execution_count": null,
   "metadata": {},
   "outputs": [],
   "source": [
    "mf.cyclecoms()\n",
    "mf.startupcommands()"
   ]
  },
  {
   "cell_type": "code",
   "execution_count": null,
   "metadata": {},
   "outputs": [],
   "source": [
    "mf.moveto(100,100,0)"
   ]
  },
  {
   "cell_type": "code",
   "execution_count": null,
   "metadata": {},
   "outputs": [],
   "source": [
    "    share.list_kill=False\n",
    "    while share.list_kill!=True:\n",
    "        command='?\\n'\n",
    "        s.write(command.encode())\n",
    "        time.sleep(0.05)\n",
    "        a=str(mf.s.read_all())\n",
    "        a=a.split(\",\")\n",
    "        status=a[0][3:]\n",
    "        share.x=a[4][5:]\n",
    "        share.y=a[5]\n",
    "        share.z=(a[6].split(\">\"))[0]\n",
    "        print(status,share.x,share.y,share.z)"
   ]
  },
  {
   "cell_type": "code",
   "execution_count": null,
   "metadata": {},
   "outputs": [],
   "source": [
    "for x in range(100):\n",
    "    share.x=x\n",
    "    share.y=x\n",
    "    share.z=x\n",
    "    time.sleep(0.031)"
   ]
  },
  {
   "cell_type": "code",
   "execution_count": null,
   "metadata": {},
   "outputs": [],
   "source": [
    "cd \"C:\\Users\\y7mandre\\Pictures\\digiCamControl\\Session1\""
   ]
  },
  {
   "cell_type": "code",
   "execution_count": null,
   "metadata": {},
   "outputs": [],
   "source": [
    "mf.closecoms()"
   ]
  },
  {
   "cell_type": "code",
   "execution_count": null,
   "metadata": {},
   "outputs": [],
   "source": []
  },
  {
   "cell_type": "code",
   "execution_count": null,
   "metadata": {},
   "outputs": [],
   "source": [
    "mf.moveto(0,-100,100,speed=5000)"
   ]
  },
  {
   "cell_type": "code",
   "execution_count": null,
   "metadata": {},
   "outputs": [],
   "source": [
    "moveto(0,0,900,speed=5000)\n",
    "moveto(0,0,0,speed=5000)\n",
    "moveto(0,0,900,speed=5000)\n",
    "moveto(0,0,0,speed=5000)\n",
    "moveto(0,0,900,speed=5000)\n",
    "moveto(0,0,0,speed=5000)"
   ]
  },
  {
   "cell_type": "code",
   "execution_count": null,
   "metadata": {},
   "outputs": [],
   "source": [
    "s.read_all()"
   ]
  },
  {
   "cell_type": "code",
   "execution_count": null,
   "metadata": {},
   "outputs": [],
   "source": [
    "a=np.stack([3,7,2])\n",
    "np.amax(a)"
   ]
  },
  {
   "cell_type": "code",
   "execution_count": null,
   "metadata": {},
   "outputs": [],
   "source": [
    "command='?\\n'\n",
    "s.write(command.encode())\n",
    "time.sleep(0.1)\n",
    "state=s.read_all()\n",
    "print(state)\n",
    "state=str(state)\n",
    "state=state.split(\"<\")\n",
    "state=state.split(\",\")\n",
    "print(state)"
   ]
  },
  {
   "cell_type": "code",
   "execution_count": null,
   "metadata": {},
   "outputs": [],
   "source": [
    "#command='$G\\n'\n",
    "#print(s.read_all())\n",
    "print(s.getSettingsDict())"
   ]
  },
  {
   "cell_type": "code",
   "execution_count": null,
   "metadata": {},
   "outputs": [],
   "source": [
    "state=str(state)\n",
    "state.split(\"<\")"
   ]
  },
  {
   "cell_type": "code",
   "execution_count": null,
   "metadata": {},
   "outputs": [],
   "source": [
    "state=state[3:57]\n",
    "state=state.split(\",\")"
   ]
  },
  {
   "cell_type": "code",
   "execution_count": null,
   "metadata": {},
   "outputs": [],
   "source": [
    "moveto(0,300,0,speed=400)"
   ]
  },
  {
   "cell_type": "code",
   "execution_count": null,
   "metadata": {},
   "outputs": [],
   "source": [
    "for x in range(10):\n",
    "    trigger()"
   ]
  },
  {
   "cell_type": "code",
   "execution_count": null,
   "metadata": {},
   "outputs": [],
   "source": [
    "jobs = bg.BackgroundJobManager()\n",
    "\n",
    "jobs.new(multitrigger,15)"
   ]
  },
  {
   "cell_type": "code",
   "execution_count": null,
   "metadata": {},
   "outputs": [],
   "source": [
    "help(bg)"
   ]
  },
  {
   "cell_type": "code",
   "execution_count": null,
   "metadata": {},
   "outputs": [],
   "source": [
    "speed=1000\n",
    "\n",
    "for x in range (100):\n",
    "    moveto(0,speed)\n",
    "    moveto(x,speed)\n",
    "\n",
    "moveto(0,speed)"
   ]
  },
  {
   "cell_type": "code",
   "execution_count": null,
   "metadata": {},
   "outputs": [],
   "source": [
    "s.close()\n",
    "s1.close()"
   ]
  },
  {
   "cell_type": "code",
   "execution_count": null,
   "metadata": {},
   "outputs": [],
   "source": [
    "jog(1)"
   ]
  }
 ],
 "metadata": {
  "kernelspec": {
   "display_name": "Python 3",
   "language": "python",
   "name": "python3"
  },
  "language_info": {
   "codemirror_mode": {
    "name": "ipython",
    "version": 3
   },
   "file_extension": ".py",
   "mimetype": "text/x-python",
   "name": "python",
   "nbconvert_exporter": "python",
   "pygments_lexer": "ipython3",
   "version": "3.6.5"
  }
 },
 "nbformat": 4,
 "nbformat_minor": 2
}
