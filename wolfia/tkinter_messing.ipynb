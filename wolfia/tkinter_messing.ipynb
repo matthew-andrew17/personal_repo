{
 "cells": [
  {
   "cell_type": "code",
   "execution_count": 1,
   "metadata": {},
   "outputs": [],
   "source": [
    "import serial\n",
    "import random\n",
    "import matplotlib.pyplot as plt\n",
    "import time\n",
    "import os\n",
    "import numpy as np\n",
    "import subprocess\n",
    "import multiprocessing\n",
    "from IPython.lib import backgroundjobs as bg\n",
    "import h5py\n",
    "import skimage\n",
    "import sys\n",
    "from skimage import io, transform, color, measure\n",
    "from PIL import ImageTk, Image\n",
    "import micro_functions as mf\n",
    "import tkinter\n",
    "import tkinter.messagebox\n",
    "import tkinter.filedialog\n",
    "import shared_variables as share\n",
    "import hdf_functions as myh5\n",
    "import gui_functions as gu\n",
    "import matplotlib.pyplot as plt\n",
    "import matplotlib.patches as patches\n",
    "import matplotlib.image as mpimg\n",
    "import cv2\n",
    "from cv2 import MOTION_EUCLIDEAN\n",
    "import scipy"
   ]
  },
  {
   "cell_type": "code",
   "execution_count": 2,
   "metadata": {},
   "outputs": [
    {
     "name": "stdout",
     "output_type": "stream",
     "text": [
      "C:\\Users\\y7mandre\\Pictures\\digiCamControl\n"
     ]
    }
   ],
   "source": [
    "cd \"C:\\Users\\y7mandre\\Pictures\\digiCamControl\\\""
   ]
  },
  {
   "cell_type": "code",
   "execution_count": 3,
   "metadata": {},
   "outputs": [
    {
     "name": "stdout",
     "output_type": "stream",
     "text": [
      "Coms Open\n"
     ]
    }
   ],
   "source": [
    "#mf.cyclecoms()\n",
    "mf.opencoms()\n"
   ]
  },
  {
   "cell_type": "code",
   "execution_count": 4,
   "metadata": {},
   "outputs": [
    {
     "name": "stdout",
     "output_type": "stream",
     "text": [
      "Com Cycle Complete\n",
      "startup commands complete\n"
     ]
    }
   ],
   "source": [
    "share.zoomlevel=3\n",
    "gu.gui_main()"
   ]
  },
  {
   "cell_type": "code",
   "execution_count": null,
   "metadata": {},
   "outputs": [],
   "source": [
    "plt.imshow(share.image_corrector)"
   ]
  },
  {
   "cell_type": "code",
   "execution_count": null,
   "metadata": {},
   "outputs": [],
   "source": [
    "share.hf['imagedata/0/image_1'].attrs['position']"
   ]
  },
  {
   "cell_type": "code",
   "execution_count": null,
   "metadata": {},
   "outputs": [],
   "source": [
    "image_1=share.hf['imagedata/0/image_0']\n",
    "image_2=share.hf['imagedata/0/image_1']"
   ]
  },
  {
   "cell_type": "code",
   "execution_count": null,
   "metadata": {},
   "outputs": [],
   "source": [
    "image_1.attrs['position']"
   ]
  },
  {
   "cell_type": "code",
   "execution_count": null,
   "metadata": {},
   "outputs": [],
   "source": [
    "def bbox_extractor(image,position,pixelsize):\n",
    "    #bbox is (left, right, top, bottom)\n",
    "    \n",
    "    image_bbox=np.zeros(4)\n",
    "    image_bbox[0]=position[0]\n",
    "    image_bbox[2]=position[1]\n",
    "    image_bbox[1]=position[0]+image.shape[1]*pixelsize\n",
    "    image_bbox[3]=position[1]+image.shape[0]*pixelsize\n",
    "    image_bbox_pix=image_bbox/pixelsize\n",
    "    \n",
    "    return image_bbox, image_bbox_pix"
   ]
  },
  {
   "cell_type": "code",
   "execution_count": null,
   "metadata": {},
   "outputs": [],
   "source": [
    "def find_overlap(image_1bbox,image_2bbox,pixelsize):\n",
    "    bbox_lis=[image_2bbox,image_1bbox]\n",
    "    delx1=np.absolute(image_1bbox[1]-image_2bbox[0])\n",
    "    delx2=np.absolute(image_2bbox[1]-image_1bbox[0])\n",
    "    delxs=[delx1,delx2]\n",
    "    minxpos=np.argmin(delxs)\n",
    "    minxval=np.amin(delxs)\n",
    "    dely1=np.absolute(image_1bbox[3]-image_2bbox[2])\n",
    "    dely2=np.absolute(image_2bbox[3]-image_1bbox[2])\n",
    "    delys=[dely1,dely2]\n",
    "    minypos=np.argmin(delys)\n",
    "    minyval=np.amin(delys)\n",
    "    overlap=np.zeros(4)\n",
    "    overlap[0]=bbox_lis[minxpos][0]\n",
    "    overlap[1]=bbox_lis[minxpos][0]+minxval\n",
    "    overlap[2]=bbox_lis[minypos][2]\n",
    "    overlap[3]=bbox_lis[minypos][2]+minyval\n",
    "    overlap_pix=overlap/pixelsize\n",
    "    return overlap, overlap_pix"
   ]
  },
  {
   "cell_type": "code",
   "execution_count": null,
   "metadata": {},
   "outputs": [],
   "source": [
    "def extract_overlapimage(image,image_bbox,overlap,pixelsize):\n",
    "    extractor_slicesx=([overlap[0]-image_bbox[0],overlap[1]-image_bbox[0]]/pixelsize).astype('int')\n",
    "    extractor_slicesy=([overlap[2]-image_bbox[2],overlap[3]-image_bbox[2]]/pixelsize).astype('int')\n",
    "    image_red=image[extractor_slicesy[0]:extractor_slicesy[1],extractor_slicesx[0]:extractor_slicesx[1],:]\n",
    "    return image_red"
   ]
  },
  {
   "cell_type": "code",
   "execution_count": null,
   "metadata": {},
   "outputs": [],
   "source": [
    "extractor_slicesx=([overlap[0]-image_1bbox[0],overlap[1]-image_1bbox[0]]/image_1.attrs['pixelsize']).astype('int')\n",
    "extractor_slicesy=([overlap[2]-image_1bbox[2],overlap[3]-image_1bbox[2]]/image_1.attrs['pixelsize']).astype('int')\n",
    "image_red=image_1[extractor_slicesy[0]:extractor_slicesy[1],extractor_slicesx[0]:extractor_slicesx[1],:]"
   ]
  },
  {
   "cell_type": "code",
   "execution_count": null,
   "metadata": {},
   "outputs": [],
   "source": [
    "plt.imshow(image_red)"
   ]
  },
  {
   "cell_type": "code",
   "execution_count": null,
   "metadata": {},
   "outputs": [],
   "source": [
    "print(extractor_slicesx,extractor_slicesy)"
   ]
  },
  {
   "cell_type": "code",
   "execution_count": null,
   "metadata": {},
   "outputs": [],
   "source": [
    "extractor_slicesy.astype('int')"
   ]
  },
  {
   "cell_type": "code",
   "execution_count": null,
   "metadata": {},
   "outputs": [],
   "source": [
    "image_1bbox,image_1bbox_pix=bbox_extractor(image_1,image_1.attrs['position'],image_1.attrs['pixelsize'])\n",
    "image_2bbox,image_2bbox_pix=bbox_extractor(image_2,image_2.attrs['position'],image_2.attrs['pixelsize'])\n",
    "overlap,overlap_pix=find_overlap(image_1bbox,image_2bbox,image_1.attrs['pixelsize'])\n",
    "image_red1=extract_overlapimage(image_1,image_1bbox,overlap,image_1.attrs['pixelsize'])\n",
    "image_red2=extract_overlapimage(image_2,image_2bbox,overlap,image_2.attrs['pixelsize'])"
   ]
  },
  {
   "cell_type": "code",
   "execution_count": null,
   "metadata": {},
   "outputs": [],
   "source": [
    "t1=time.time()\n",
    "image_red2_warped,warpmatrix_red1=mf.register_images_ECC(image_red1,image_red2,warp_matrix=wpmatrix,me=cv2.MOTION_TRANSLATION)\n",
    "t2=time.time()\n",
    "print(t2-t1)"
   ]
  },
  {
   "cell_type": "code",
   "execution_count": null,
   "metadata": {},
   "outputs": [],
   "source": [
    "t1=time.time()\n",
    "image_red2_warped,warpmatrix_red2=mf.register_images_ECC(image_red1,image_red2,warp_matrix=wpmatrix,me=cv2.MOTION_AFFINE)\n",
    "t2=time.time()\n",
    "print(t2-t1)"
   ]
  },
  {
   "cell_type": "code",
   "execution_count": null,
   "metadata": {},
   "outputs": [],
   "source": [
    "print(warpmatrix_red1,warpmatrix_red2)"
   ]
  },
  {
   "cell_type": "code",
   "execution_count": null,
   "metadata": {},
   "outputs": [],
   "source": [
    "wpmatrix=np.eye(2,3, dtype=np.float32)\n",
    "print(wpmatrix)"
   ]
  },
  {
   "cell_type": "code",
   "execution_count": null,
   "metadata": {},
   "outputs": [],
   "source": [
    "testim2=cv2.warpAffine(testim2, (wpmatrix), (testim1.shape[1],testim1.shape[0]), flags=cv2.INTER_LINEAR + cv2.WARP_INVERSE_MAP)"
   ]
  },
  {
   "cell_type": "code",
   "execution_count": null,
   "metadata": {},
   "outputs": [],
   "source": [
    "plt.imshow(im2warped)"
   ]
  },
  {
   "cell_type": "code",
   "execution_count": null,
   "metadata": {},
   "outputs": [],
   "source": [
    "t1=time.time()\n",
    "im2warped1,warpmatrix1=mf.register_images_ECC_euclid(image_red1,image_red2)\n",
    "t2=time.time()\n",
    "print(t2-t1)"
   ]
  },
  {
   "cell_type": "code",
   "execution_count": null,
   "metadata": {},
   "outputs": [],
   "source": [
    "im1reg,h=mf.register_images_ORB(image_red1,image_red2)"
   ]
  },
  {
   "cell_type": "code",
   "execution_count": null,
   "metadata": {},
   "outputs": [],
   "source": [
    "wpmatrix=np.eye(2, 3, dtype=np.float32)\n",
    "wpmatrix[0,2]=-overlap_pix[0]\n",
    "wpmatrix[1,2]=-overlap_pix[2]\n",
    "print(wpmatrix)"
   ]
  },
  {
   "cell_type": "code",
   "execution_count": null,
   "metadata": {},
   "outputs": [],
   "source": [
    "overlap_pix"
   ]
  },
  {
   "cell_type": "code",
   "execution_count": null,
   "metadata": {},
   "outputs": [],
   "source": [
    "diff=np.subtract(im2warped,image_red1,dtype='float')"
   ]
  },
  {
   "cell_type": "code",
   "execution_count": null,
   "metadata": {},
   "outputs": [],
   "source": [
    "diff=np.absolute(diff).astype('uint8')"
   ]
  },
  {
   "cell_type": "code",
   "execution_count": null,
   "metadata": {},
   "outputs": [],
   "source": [
    "plt.imshow(diff*20)"
   ]
  },
  {
   "cell_type": "code",
   "execution_count": null,
   "metadata": {},
   "outputs": [],
   "source": [
    "fig,ax=plt.subplots(figsize=(16,24))\n",
    "ax.set_xlim(0,image_2bbox_pix[1])\n",
    "plt.imshow(image_1,extent=image_1bbox_pix,origin='lower')\n",
    "plt.imshow(image_2,extent=image_2bbox_pix,alpha=1,origin='lower')\n",
    "plt.imshow(image_red,extent=overlap_pix,origin='lower')\n",
    "rect=patches.Rectangle((overlap_pix[0],overlap_pix[2]),(overlap_pix[1]-overlap_pix[0]),(overlap_pix[3]-overlap_pix[2]),color='red',alpha=0.3)\n",
    "ax.add_patch(rect)\n",
    "plt.show()"
   ]
  },
  {
   "cell_type": "code",
   "execution_count": null,
   "metadata": {},
   "outputs": [],
   "source": [
    "plt.imshow(image_red)"
   ]
  },
  {
   "cell_type": "code",
   "execution_count": null,
   "metadata": {},
   "outputs": [],
   "source": [
    "print(overlap_pix[0],overlap_pix[2],overlap_pix[1]-overlap_pix[0])"
   ]
  },
  {
   "cell_type": "code",
   "execution_count": null,
   "metadata": {},
   "outputs": [],
   "source": [
    "image_1.attrs['pixelsize']"
   ]
  },
  {
   "cell_type": "code",
   "execution_count": null,
   "metadata": {},
   "outputs": [],
   "source": [
    "plt.imshow(imlist[1])\n",
    "for x in range(len(kp1)):\n",
    "    plt.scatter(kp1[x].pt[0],kp1[x].pt[1],c='red')\n",
    "for x in range(len(kp2)):\n",
    "    plt.scatter(kp2[x].pt[0],kp2[x].pt[1],c='blue')"
   ]
  }
 ],
 "metadata": {
  "kernelspec": {
   "display_name": "Python 3",
   "language": "python",
   "name": "python3"
  },
  "language_info": {
   "codemirror_mode": {
    "name": "ipython",
    "version": 3
   },
   "file_extension": ".py",
   "mimetype": "text/x-python",
   "name": "python",
   "nbconvert_exporter": "python",
   "pygments_lexer": "ipython3",
   "version": "3.6.5"
  }
 },
 "nbformat": 4,
 "nbformat_minor": 2
}
